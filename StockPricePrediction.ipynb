{
  "cells": [
    {
      "cell_type": "markdown",
      "metadata": {
        "id": "view-in-github",
        "colab_type": "text"
      },
      "source": [
        "<a href=\"https://colab.research.google.com/github/abdelrahmanfekri/Machine-Learning/blob/main/StockPricePrediction.ipynb\" target=\"_parent\"><img src=\"https://colab.research.google.com/assets/colab-badge.svg\" alt=\"Open In Colab\"/></a>"
      ]
    },
    {
      "cell_type": "code",
      "source": [
        "pip install yahoofinance"
      ],
      "metadata": {
        "id": "v0CjG9ilhUs9",
        "outputId": "5c1ac4ad-fd09-46d5-f100-a3e3cab3ef75",
        "colab": {
          "base_uri": "https://localhost:8080/"
        }
      },
      "execution_count": 1,
      "outputs": [
        {
          "output_type": "stream",
          "name": "stdout",
          "text": [
            "Collecting yahoofinance\n",
            "  Downloading yahoofinance-0.0.2-py3-none-any.whl (18 kB)\n",
            "Requirement already satisfied: pandas>=0.23.4 in /usr/local/lib/python3.7/dist-packages (from yahoofinance) (1.3.5)\n",
            "Requirement already satisfied: requests>=2.20.1 in /usr/local/lib/python3.7/dist-packages (from yahoofinance) (2.23.0)\n",
            "Requirement already satisfied: beautifulsoup4>=4.6.3 in /usr/local/lib/python3.7/dist-packages (from yahoofinance) (4.6.3)\n",
            "Requirement already satisfied: python-dateutil>=2.7.3 in /usr/local/lib/python3.7/dist-packages (from pandas>=0.23.4->yahoofinance) (2.8.2)\n",
            "Requirement already satisfied: numpy>=1.17.3 in /usr/local/lib/python3.7/dist-packages (from pandas>=0.23.4->yahoofinance) (1.21.5)\n",
            "Requirement already satisfied: pytz>=2017.3 in /usr/local/lib/python3.7/dist-packages (from pandas>=0.23.4->yahoofinance) (2018.9)\n",
            "Requirement already satisfied: six>=1.5 in /usr/local/lib/python3.7/dist-packages (from python-dateutil>=2.7.3->pandas>=0.23.4->yahoofinance) (1.15.0)\n",
            "Requirement already satisfied: idna<3,>=2.5 in /usr/local/lib/python3.7/dist-packages (from requests>=2.20.1->yahoofinance) (2.10)\n",
            "Requirement already satisfied: chardet<4,>=3.0.2 in /usr/local/lib/python3.7/dist-packages (from requests>=2.20.1->yahoofinance) (3.0.4)\n",
            "Requirement already satisfied: certifi>=2017.4.17 in /usr/local/lib/python3.7/dist-packages (from requests>=2.20.1->yahoofinance) (2021.10.8)\n",
            "Requirement already satisfied: urllib3!=1.25.0,!=1.25.1,<1.26,>=1.21.1 in /usr/local/lib/python3.7/dist-packages (from requests>=2.20.1->yahoofinance) (1.24.3)\n",
            "Installing collected packages: yahoofinance\n",
            "Successfully installed yahoofinance-0.0.2\n"
          ]
        }
      ]
    },
    {
      "cell_type": "markdown",
      "metadata": {
        "id": "bI8Uq2Yud6yu"
      },
      "source": [
        "#Import Libraries"
      ]
    },
    {
      "cell_type": "code",
      "execution_count": 2,
      "metadata": {
        "id": "F2uP_irxa7Bu"
      },
      "outputs": [],
      "source": [
        "import numpy as np\n",
        "import pandas as pd\n",
        "import matplotlib.pyplot as plt\n",
        "%matplotlib inline\n",
        "import tensorflow as tf\n",
        "import keras\n",
        "from keras.models import Sequential\n",
        "from keras.layers import LSTM,Dense\n",
        "from sklearn.preprocessing import MinMaxScaler\n",
        "from sklearn.model_selection import train_test_split\n",
        "import yahoofinance as yf"
      ]
    },
    {
      "cell_type": "markdown",
      "metadata": {
        "id": "hlMDr7AUeHAw"
      },
      "source": [
        "# Read Data"
      ]
    },
    {
      "cell_type": "code",
      "execution_count": 3,
      "metadata": {
        "id": "r8X6FKG5dx4c"
      },
      "outputs": [],
      "source": [
        "data = pd.read_csv(\"/content/drive/MyDrive/NSE-Tata-Global-Beverages-Limited.zip (Unzipped Files)/NSE-Tata-Global-Beverages-Limited.csv\",parse_dates = ['Date'],index_col = 'Date')"
      ]
    },
    {
      "cell_type": "code",
      "execution_count": 4,
      "metadata": {
        "colab": {
          "base_uri": "https://localhost:8080/",
          "height": 238
        },
        "id": "0i9Wy5PQdu8e",
        "outputId": "7ba99392-4dfc-41ee-de0f-9f0f29f358af"
      },
      "outputs": [
        {
          "output_type": "execute_result",
          "data": {
            "text/plain": [
              "              Open    High     Low    Last   Close  Total Trade Quantity  \\\n",
              "Date                                                                       \n",
              "2018-10-08  208.00  222.25  206.85  216.00  215.15             4642146.0   \n",
              "2018-10-05  217.00  218.60  205.90  210.25  209.20             3519515.0   \n",
              "2018-10-04  223.50  227.80  216.15  217.25  218.20             1728786.0   \n",
              "2018-10-03  230.00  237.50  225.75  226.45  227.60             1708590.0   \n",
              "2018-10-01  234.55  234.60  221.05  230.30  230.90             1534749.0   \n",
              "\n",
              "            Turnover (Lacs)  \n",
              "Date                         \n",
              "2018-10-08         10062.83  \n",
              "2018-10-05          7407.06  \n",
              "2018-10-04          3815.79  \n",
              "2018-10-03          3960.27  \n",
              "2018-10-01          3486.05  "
            ],
            "text/html": [
              "\n",
              "  <div id=\"df-1e86ad82-afa7-497e-b8e1-fcfa334b14d2\">\n",
              "    <div class=\"colab-df-container\">\n",
              "      <div>\n",
              "<style scoped>\n",
              "    .dataframe tbody tr th:only-of-type {\n",
              "        vertical-align: middle;\n",
              "    }\n",
              "\n",
              "    .dataframe tbody tr th {\n",
              "        vertical-align: top;\n",
              "    }\n",
              "\n",
              "    .dataframe thead th {\n",
              "        text-align: right;\n",
              "    }\n",
              "</style>\n",
              "<table border=\"1\" class=\"dataframe\">\n",
              "  <thead>\n",
              "    <tr style=\"text-align: right;\">\n",
              "      <th></th>\n",
              "      <th>Open</th>\n",
              "      <th>High</th>\n",
              "      <th>Low</th>\n",
              "      <th>Last</th>\n",
              "      <th>Close</th>\n",
              "      <th>Total Trade Quantity</th>\n",
              "      <th>Turnover (Lacs)</th>\n",
              "    </tr>\n",
              "    <tr>\n",
              "      <th>Date</th>\n",
              "      <th></th>\n",
              "      <th></th>\n",
              "      <th></th>\n",
              "      <th></th>\n",
              "      <th></th>\n",
              "      <th></th>\n",
              "      <th></th>\n",
              "    </tr>\n",
              "  </thead>\n",
              "  <tbody>\n",
              "    <tr>\n",
              "      <th>2018-10-08</th>\n",
              "      <td>208.00</td>\n",
              "      <td>222.25</td>\n",
              "      <td>206.85</td>\n",
              "      <td>216.00</td>\n",
              "      <td>215.15</td>\n",
              "      <td>4642146.0</td>\n",
              "      <td>10062.83</td>\n",
              "    </tr>\n",
              "    <tr>\n",
              "      <th>2018-10-05</th>\n",
              "      <td>217.00</td>\n",
              "      <td>218.60</td>\n",
              "      <td>205.90</td>\n",
              "      <td>210.25</td>\n",
              "      <td>209.20</td>\n",
              "      <td>3519515.0</td>\n",
              "      <td>7407.06</td>\n",
              "    </tr>\n",
              "    <tr>\n",
              "      <th>2018-10-04</th>\n",
              "      <td>223.50</td>\n",
              "      <td>227.80</td>\n",
              "      <td>216.15</td>\n",
              "      <td>217.25</td>\n",
              "      <td>218.20</td>\n",
              "      <td>1728786.0</td>\n",
              "      <td>3815.79</td>\n",
              "    </tr>\n",
              "    <tr>\n",
              "      <th>2018-10-03</th>\n",
              "      <td>230.00</td>\n",
              "      <td>237.50</td>\n",
              "      <td>225.75</td>\n",
              "      <td>226.45</td>\n",
              "      <td>227.60</td>\n",
              "      <td>1708590.0</td>\n",
              "      <td>3960.27</td>\n",
              "    </tr>\n",
              "    <tr>\n",
              "      <th>2018-10-01</th>\n",
              "      <td>234.55</td>\n",
              "      <td>234.60</td>\n",
              "      <td>221.05</td>\n",
              "      <td>230.30</td>\n",
              "      <td>230.90</td>\n",
              "      <td>1534749.0</td>\n",
              "      <td>3486.05</td>\n",
              "    </tr>\n",
              "  </tbody>\n",
              "</table>\n",
              "</div>\n",
              "      <button class=\"colab-df-convert\" onclick=\"convertToInteractive('df-1e86ad82-afa7-497e-b8e1-fcfa334b14d2')\"\n",
              "              title=\"Convert this dataframe to an interactive table.\"\n",
              "              style=\"display:none;\">\n",
              "        \n",
              "  <svg xmlns=\"http://www.w3.org/2000/svg\" height=\"24px\"viewBox=\"0 0 24 24\"\n",
              "       width=\"24px\">\n",
              "    <path d=\"M0 0h24v24H0V0z\" fill=\"none\"/>\n",
              "    <path d=\"M18.56 5.44l.94 2.06.94-2.06 2.06-.94-2.06-.94-.94-2.06-.94 2.06-2.06.94zm-11 1L8.5 8.5l.94-2.06 2.06-.94-2.06-.94L8.5 2.5l-.94 2.06-2.06.94zm10 10l.94 2.06.94-2.06 2.06-.94-2.06-.94-.94-2.06-.94 2.06-2.06.94z\"/><path d=\"M17.41 7.96l-1.37-1.37c-.4-.4-.92-.59-1.43-.59-.52 0-1.04.2-1.43.59L10.3 9.45l-7.72 7.72c-.78.78-.78 2.05 0 2.83L4 21.41c.39.39.9.59 1.41.59.51 0 1.02-.2 1.41-.59l7.78-7.78 2.81-2.81c.8-.78.8-2.07 0-2.86zM5.41 20L4 18.59l7.72-7.72 1.47 1.35L5.41 20z\"/>\n",
              "  </svg>\n",
              "      </button>\n",
              "      \n",
              "  <style>\n",
              "    .colab-df-container {\n",
              "      display:flex;\n",
              "      flex-wrap:wrap;\n",
              "      gap: 12px;\n",
              "    }\n",
              "\n",
              "    .colab-df-convert {\n",
              "      background-color: #E8F0FE;\n",
              "      border: none;\n",
              "      border-radius: 50%;\n",
              "      cursor: pointer;\n",
              "      display: none;\n",
              "      fill: #1967D2;\n",
              "      height: 32px;\n",
              "      padding: 0 0 0 0;\n",
              "      width: 32px;\n",
              "    }\n",
              "\n",
              "    .colab-df-convert:hover {\n",
              "      background-color: #E2EBFA;\n",
              "      box-shadow: 0px 1px 2px rgba(60, 64, 67, 0.3), 0px 1px 3px 1px rgba(60, 64, 67, 0.15);\n",
              "      fill: #174EA6;\n",
              "    }\n",
              "\n",
              "    [theme=dark] .colab-df-convert {\n",
              "      background-color: #3B4455;\n",
              "      fill: #D2E3FC;\n",
              "    }\n",
              "\n",
              "    [theme=dark] .colab-df-convert:hover {\n",
              "      background-color: #434B5C;\n",
              "      box-shadow: 0px 1px 3px 1px rgba(0, 0, 0, 0.15);\n",
              "      filter: drop-shadow(0px 1px 2px rgba(0, 0, 0, 0.3));\n",
              "      fill: #FFFFFF;\n",
              "    }\n",
              "  </style>\n",
              "\n",
              "      <script>\n",
              "        const buttonEl =\n",
              "          document.querySelector('#df-1e86ad82-afa7-497e-b8e1-fcfa334b14d2 button.colab-df-convert');\n",
              "        buttonEl.style.display =\n",
              "          google.colab.kernel.accessAllowed ? 'block' : 'none';\n",
              "\n",
              "        async function convertToInteractive(key) {\n",
              "          const element = document.querySelector('#df-1e86ad82-afa7-497e-b8e1-fcfa334b14d2');\n",
              "          const dataTable =\n",
              "            await google.colab.kernel.invokeFunction('convertToInteractive',\n",
              "                                                     [key], {});\n",
              "          if (!dataTable) return;\n",
              "\n",
              "          const docLinkHtml = 'Like what you see? Visit the ' +\n",
              "            '<a target=\"_blank\" href=https://colab.research.google.com/notebooks/data_table.ipynb>data table notebook</a>'\n",
              "            + ' to learn more about interactive tables.';\n",
              "          element.innerHTML = '';\n",
              "          dataTable['output_type'] = 'display_data';\n",
              "          await google.colab.output.renderOutput(dataTable, element);\n",
              "          const docLink = document.createElement('div');\n",
              "          docLink.innerHTML = docLinkHtml;\n",
              "          element.appendChild(docLink);\n",
              "        }\n",
              "      </script>\n",
              "    </div>\n",
              "  </div>\n",
              "  "
            ]
          },
          "metadata": {},
          "execution_count": 4
        }
      ],
      "source": [
        "data.head()"
      ]
    },
    {
      "cell_type": "code",
      "execution_count": 5,
      "metadata": {
        "colab": {
          "base_uri": "https://localhost:8080/",
          "height": 283
        },
        "id": "dE-0N5mnd44u",
        "outputId": "30b8dbc7-0dfb-40d2-fc0d-b56b4891ea8c"
      },
      "outputs": [
        {
          "output_type": "execute_result",
          "data": {
            "text/plain": [
              "[<matplotlib.lines.Line2D at 0x7fbac289a110>]"
            ]
          },
          "metadata": {},
          "execution_count": 5
        },
        {
          "output_type": "display_data",
          "data": {
            "text/plain": [
              "<Figure size 432x288 with 1 Axes>"
            ],
            "image/png": "[encoded data removed]"
          },
          "metadata": {
            "needs_background": "light"
          }
        }
      ],
      "source": [
        "plt.plot(data['Open'])"
      ]
    },
    {
      "cell_type": "markdown",
      "source": [
        "#Prepare Train data I choosed the last 100 data to be a test data (unseen data)"
      ],
      "metadata": {
        "id": "D4D69bidJrfL"
      }
    },
    {
      "cell_type": "code",
      "execution_count": 6,
      "metadata": {
        "colab": {
          "base_uri": "https://localhost:8080/"
        },
        "id": "5dRrSghyffzm",
        "outputId": "44a6b424-860a-4cda-e491-db2999e15c43"
      },
      "outputs": [
        {
          "output_type": "execute_result",
          "data": {
            "text/plain": [
              "((1105, 1), (1105, 30, 1))"
            ]
          },
          "metadata": {},
          "execution_count": 6
        }
      ],
      "source": [
        "batch = 30\n",
        "data = data.sort_index(ascending = True,axis = 0)\n",
        "scaler = MinMaxScaler(feature_range = (0,1))\n",
        "closeData = scaler.fit_transform(pd.DataFrame(data['Close'][:-100]))\n",
        "Xtrain = []\n",
        "ytrain = []\n",
        "for i in range(batch,closeData.shape[0]):\n",
        "  Xtrain.append(closeData[i-batch:i])\n",
        "  ytrain.append(closeData[i])\n",
        "\n",
        "ytrain = np.array(ytrain)\n",
        "Xtrain = np.array(Xtrain)\n",
        "ytrain.shape,Xtrain.shape"
      ]
    },
    {
      "cell_type": "markdown",
      "source": [
        "# make the LSTM model for training"
      ],
      "metadata": {
        "id": "lhU9cqTkJ6HF"
      }
    },
    {
      "cell_type": "code",
      "execution_count": 7,
      "metadata": {
        "colab": {
          "base_uri": "https://localhost:8080/"
        },
        "id": "QRArV1Eav3oe",
        "outputId": "be0adf8f-f51d-4329-b984-a08fb1a3e661"
      },
      "outputs": [
        {
          "output_type": "stream",
          "name": "stdout",
          "text": [
            "Model: \"sequential\"\n",
            "_________________________________________________________________\n",
            " Layer (type)                Output Shape              Param #   \n",
            "=================================================================\n",
            " lstm (LSTM)                 (None, 30, 50)            10400     \n",
            "                                                                 \n",
            " lstm_1 (LSTM)               (None, 30, 50)            20200     \n",
            "                                                                 \n",
            " lstm_2 (LSTM)               (None, 30, 50)            20200     \n",
            "                                                                 \n",
            " lstm_3 (LSTM)               (None, 50)                20200     \n",
            "                                                                 \n",
            " dense (Dense)               (None, 32)                1632      \n",
            "                                                                 \n",
            " dense_1 (Dense)             (None, 8)                 264       \n",
            "                                                                 \n",
            " dense_2 (Dense)             (None, 1)                 9         \n",
            "                                                                 \n",
            "=================================================================\n",
            "Total params: 72,905\n",
            "Trainable params: 72,905\n",
            "Non-trainable params: 0\n",
            "_________________________________________________________________\n"
          ]
        }
      ],
      "source": [
        "model = Sequential()\n",
        "model.add(LSTM(units = 50,return_sequences = True,input_shape = (batch,1)))\n",
        "model.add(LSTM(units = 50,return_sequences = True))\n",
        "model.add(LSTM(units = 50,return_sequences = True))\n",
        "model.add(LSTM(units = 50))\n",
        "model.add(Dense(32,activation = 'relu'))\n",
        "model.add(Dense(8,activation = 'relu'))\n",
        "model.add(Dense(1))\n",
        "\n",
        "model.compile(loss='mean_squared_error',optimizer = tf.keras.optimizers.Adam(learning_rate = 0.001))\n",
        "model.summary()"
      ]
    },
    {
      "cell_type": "markdown",
      "source": [
        "#fitting the model"
      ],
      "metadata": {
        "id": "oMLwA3eHKB_F"
      }
    },
    {
      "cell_type": "code",
      "execution_count": 8,
      "metadata": {
        "colab": {
          "base_uri": "https://localhost:8080/"
        },
        "id": "Nr6fafPcjB3-",
        "outputId": "13112a7e-b78a-4678-dba1-6f14352ce46d"
      },
      "outputs": [
        {
          "output_type": "stream",
          "name": "stdout",
          "text": [
            "Epoch 1/60\n",
            "37/37 [==============================] - 12s 38ms/step - loss: 0.0405\n",
            "Epoch 2/60\n",
            "37/37 [==============================] - 1s 38ms/step - loss: 0.0035\n",
            "Epoch 3/60\n",
            "37/37 [==============================] - 1s 38ms/step - loss: 0.0023\n",
            "Epoch 4/60\n",
            "37/37 [==============================] - 1s 35ms/step - loss: 0.0023\n",
            "Epoch 5/60\n",
            "37/37 [==============================] - 1s 35ms/step - loss: 0.0022\n",
            "Epoch 6/60\n",
            "37/37 [==============================] - 1s 39ms/step - loss: 0.0021\n",
            "Epoch 7/60\n",
            "37/37 [==============================] - 1s 39ms/step - loss: 0.0022\n",
            "Epoch 8/60\n",
            "37/37 [==============================] - 1s 37ms/step - loss: 0.0021\n",
            "Epoch 9/60\n",
            "37/37 [==============================] - 1s 35ms/step - loss: 0.0020\n",
            "Epoch 10/60\n",
            "37/37 [==============================] - 1s 36ms/step - loss: 0.0018\n",
            "Epoch 11/60\n",
            "37/37 [==============================] - 1s 36ms/step - loss: 0.0016\n",
            "Epoch 12/60\n",
            "37/37 [==============================] - 1s 35ms/step - loss: 0.0018\n",
            "Epoch 13/60\n",
            "37/37 [==============================] - 1s 35ms/step - loss: 0.0016\n",
            "Epoch 14/60\n",
            "37/37 [==============================] - 1s 35ms/step - loss: 0.0018\n",
            "Epoch 15/60\n",
            "37/37 [==============================] - 1s 35ms/step - loss: 0.0015\n",
            "Epoch 16/60\n",
            "37/37 [==============================] - 1s 35ms/step - loss: 0.0013\n",
            "Epoch 17/60\n",
            "37/37 [==============================] - 1s 36ms/step - loss: 0.0013\n",
            "Epoch 18/60\n",
            "37/37 [==============================] - 1s 35ms/step - loss: 0.0013\n",
            "Epoch 19/60\n",
            "37/37 [==============================] - 1s 35ms/step - loss: 0.0014\n",
            "Epoch 20/60\n",
            "37/37 [==============================] - 1s 35ms/step - loss: 0.0012\n",
            "Epoch 21/60\n",
            "37/37 [==============================] - 1s 35ms/step - loss: 0.0014\n",
            "Epoch 22/60\n",
            "37/37 [==============================] - 1s 36ms/step - loss: 0.0011\n",
            "Epoch 23/60\n",
            "37/37 [==============================] - 1s 35ms/step - loss: 0.0010\n",
            "Epoch 24/60\n",
            "37/37 [==============================] - 1s 35ms/step - loss: 0.0011\n",
            "Epoch 25/60\n",
            "37/37 [==============================] - 1s 35ms/step - loss: 0.0011\n",
            "Epoch 26/60\n",
            "37/37 [==============================] - 1s 35ms/step - loss: 9.8830e-04\n",
            "Epoch 27/60\n",
            "37/37 [==============================] - 1s 35ms/step - loss: 9.6834e-04\n",
            "Epoch 28/60\n",
            "37/37 [==============================] - 1s 35ms/step - loss: 9.0921e-04\n",
            "Epoch 29/60\n",
            "37/37 [==============================] - 1s 36ms/step - loss: 9.3996e-04\n",
            "Epoch 30/60\n",
            "37/37 [==============================] - 1s 36ms/step - loss: 8.9615e-04\n",
            "Epoch 31/60\n",
            "37/37 [==============================] - 1s 35ms/step - loss: 8.1982e-04\n",
            "Epoch 32/60\n",
            "37/37 [==============================] - 1s 35ms/step - loss: 8.3397e-04\n",
            "Epoch 33/60\n",
            "37/37 [==============================] - 1s 35ms/step - loss: 8.4992e-04\n",
            "Epoch 34/60\n",
            "37/37 [==============================] - 1s 36ms/step - loss: 7.3162e-04\n",
            "Epoch 35/60\n",
            "37/37 [==============================] - 1s 36ms/step - loss: 7.9530e-04\n",
            "Epoch 36/60\n",
            "37/37 [==============================] - 1s 35ms/step - loss: 9.2320e-04\n",
            "Epoch 37/60\n",
            "37/37 [==============================] - 1s 35ms/step - loss: 6.5806e-04\n",
            "Epoch 38/60\n",
            "37/37 [==============================] - 1s 35ms/step - loss: 7.0587e-04\n",
            "Epoch 39/60\n",
            "37/37 [==============================] - 1s 35ms/step - loss: 5.8107e-04\n",
            "Epoch 40/60\n",
            "37/37 [==============================] - 1s 35ms/step - loss: 6.4155e-04\n",
            "Epoch 41/60\n",
            "37/37 [==============================] - 1s 36ms/step - loss: 5.8935e-04\n",
            "Epoch 42/60\n",
            "37/37 [==============================] - 1s 35ms/step - loss: 5.0601e-04\n",
            "Epoch 43/60\n",
            "37/37 [==============================] - 1s 35ms/step - loss: 5.0037e-04\n",
            "Epoch 44/60\n",
            "37/37 [==============================] - 1s 35ms/step - loss: 5.0164e-04\n",
            "Epoch 45/60\n",
            "37/37 [==============================] - 1s 35ms/step - loss: 5.2958e-04\n",
            "Epoch 46/60\n",
            "37/37 [==============================] - 1s 35ms/step - loss: 4.2559e-04\n",
            "Epoch 47/60\n",
            "37/37 [==============================] - 1s 35ms/step - loss: 4.9310e-04\n",
            "Epoch 48/60\n",
            "37/37 [==============================] - 1s 35ms/step - loss: 4.2686e-04\n",
            "Epoch 49/60\n",
            "37/37 [==============================] - 1s 35ms/step - loss: 4.7042e-04\n",
            "Epoch 50/60\n",
            "37/37 [==============================] - 1s 35ms/step - loss: 4.1158e-04\n",
            "Epoch 51/60\n",
            "37/37 [==============================] - 1s 35ms/step - loss: 4.7645e-04\n",
            "Epoch 52/60\n",
            "37/37 [==============================] - 1s 35ms/step - loss: 3.8047e-04\n",
            "Epoch 53/60\n",
            "37/37 [==============================] - 1s 35ms/step - loss: 3.6760e-04\n",
            "Epoch 54/60\n",
            "37/37 [==============================] - 1s 35ms/step - loss: 3.8887e-04\n",
            "Epoch 55/60\n",
            "37/37 [==============================] - 1s 35ms/step - loss: 3.5777e-04\n",
            "Epoch 56/60\n",
            "37/37 [==============================] - 1s 35ms/step - loss: 3.5565e-04\n",
            "Epoch 57/60\n",
            "37/37 [==============================] - 1s 36ms/step - loss: 4.6134e-04\n",
            "Epoch 58/60\n",
            "37/37 [==============================] - 1s 35ms/step - loss: 3.5294e-04\n",
            "Epoch 59/60\n",
            "37/37 [==============================] - 1s 35ms/step - loss: 3.6791e-04\n",
            "Epoch 60/60\n",
            "37/37 [==============================] - 1s 35ms/step - loss: 3.2849e-04\n"
          ]
        }
      ],
      "source": [
        "history = model.fit(Xtrain,ytrain,epochs = 60,batch_size = 30,verbose = 1)"
      ]
    },
    {
      "cell_type": "markdown",
      "source": [
        "# prepare the unseen data "
      ],
      "metadata": {
        "id": "PRu7saYUKHgp"
      }
    },
    {
      "cell_type": "code",
      "execution_count": 9,
      "metadata": {
        "id": "aaVn1p7Hpf9b"
      },
      "outputs": [],
      "source": [
        "closeDataTest = scaler.transform(pd.DataFrame(data['Close'][-160:]))\n",
        "Xtest = []\n",
        "for i in range(batch,closeDataTest.shape[0]):\n",
        "  Xtest.append(closeDataTest[i-batch:i])\n",
        "Xtest = np.array(Xtest)\n",
        "pred = model.predict(Xtest)\n",
        "pred = scaler.inverse_transform(pred)"
      ]
    },
    {
      "cell_type": "code",
      "execution_count": 10,
      "metadata": {
        "id": "8mbK2WGJsbZv"
      },
      "outputs": [],
      "source": [
        "da = pd.DataFrame()\n",
        "da['Actual'] = data['Close'][-130:]\n",
        "da['Prediction'] = np.squeeze(pred)"
      ]
    },
    {
      "cell_type": "markdown",
      "source": [
        "# Evaluate the model in the test data and waow we make a model the almost predict the Stock market"
      ],
      "metadata": {
        "id": "F0KVIr7NKQ-4"
      }
    },
    {
      "cell_type": "code",
      "source": [
        "from keras.metrics import mean_absolute_error\n",
        "abs(da['Actual']-da['Prediction']).mean()"
      ],
      "metadata": {
        "id": "beZjCzOXKqXe",
        "outputId": "dc62a735-2841-4d8d-a529-6db5bf2333b1",
        "colab": {
          "base_uri": "https://localhost:8080/"
        }
      },
      "execution_count": 11,
      "outputs": [
        {
          "output_type": "execute_result",
          "data": {
            "text/plain": [
              "7.9885654390775205"
            ]
          },
          "metadata": {},
          "execution_count": 11
        }
      ]
    },
    {
      "cell_type": "code",
      "execution_count": 12,
      "metadata": {
        "id": "wtx072ucseNk",
        "colab": {
          "base_uri": "https://localhost:8080/",
          "height": 588
        },
        "outputId": "56b95ebb-1c15-4d9a-c9e0-0b252906676f"
      },
      "outputs": [
        {
          "output_type": "execute_result",
          "data": {
            "text/plain": [
              "<matplotlib.axes._subplots.AxesSubplot at 0x7fba488fd6d0>"
            ]
          },
          "metadata": {},
          "execution_count": 12
        },
        {
          "output_type": "display_data",
          "data": {
            "text/plain": [
              "<Figure size 1440x720 with 1 Axes>"
            ],
            "image/png": "[encoded data removed]"
          },
          "metadata": {
            "needs_background": "light"
          }
        }
      ],
      "source": [
        "da.plot(figsize = (20,10))"
      ]
    },
    {
      "cell_type": "code",
      "source": [
        ""
      ],
      "metadata": {
        "id": "cC_ixGhakz9G"
      },
      "execution_count": 14,
      "outputs": []
    },
    {
      "cell_type": "code",
      "source": [
        ""
      ],
      "metadata": {
        "id": "V3bQ37BPGG5s"
      },
      "execution_count": 14,
      "outputs": []
    }
  ],
  "metadata": {
    "accelerator": "GPU",
    "colab": {
      "name": "StockPricePrediction.ipynb",
      "provenance": [],
      "mount_file_id": "12lqU1NR_4Mi-j5371yFDsOFl6zU0h2I8",
      "authorship_tag": "ABX9TyNt7N+t6b7D+9Usd9pgw2/N",
      "include_colab_link": true
    },
    "kernelspec": {
      "display_name": "Python 3",
      "name": "python3"
    },
    "language_info": {
      "name": "python"
    }
  },
  "nbformat": 4,
  "nbformat_minor": 0
}